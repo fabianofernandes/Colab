{
  "nbformat": 4,
  "nbformat_minor": 0,
  "metadata": {
    "colab": {
      "provenance": [],
      "authorship_tag": "ABX9TyMA6/2ry/N7Euk99OOpjD5p",
      "include_colab_link": true
    },
    "kernelspec": {
      "name": "python3",
      "display_name": "Python 3"
    },
    "language_info": {
      "name": "python"
    }
  },
  "cells": [
    {
      "cell_type": "markdown",
      "metadata": {
        "id": "view-in-github",
        "colab_type": "text"
      },
      "source": [
        "<a href=\"https://colab.research.google.com/github/fabianofernandes/Colab/blob/main/Buscas.ipynb\" target=\"_parent\"><img src=\"https://colab.research.google.com/assets/colab-badge.svg\" alt=\"Open In Colab\"/></a>"
      ]
    },
    {
      "cell_type": "markdown",
      "source": [
        "# **Busca Sequencial**\n"
      ],
      "metadata": {
        "id": "D8_lUQSTJnf8"
      }
    },
    {
      "cell_type": "code",
      "execution_count": 21,
      "metadata": {
        "colab": {
          "base_uri": "https://localhost:8080/",
          "height": 54
        },
        "id": "h3wwhhFXGH50",
        "outputId": "638c2c0c-b157-4e3d-eb7c-98938d73adfa"
      },
      "outputs": [
        {
          "name": "stdout",
          "output_type": "stream",
          "text": [
            "Digite o número procurado: 0\n"
          ]
        },
        {
          "output_type": "execute_result",
          "data": {
            "text/plain": [
              "'não encontrado na lista'"
            ],
            "application/vnd.google.colaboratory.intrinsic+json": {
              "type": "string"
            }
          },
          "metadata": {},
          "execution_count": 21
        }
      ],
      "source": [
        "def busca_seq(lista, chave):\n",
        "    for i in range(len(lista)):\n",
        "        if lista [i]==chave:\n",
        "            mensagem=(\"encontrado na posição: \",i)\n",
        "            return mensagem\n",
        "        else:\n",
        "            mensagem=\"não encontrado na lista\"\n",
        "    return (mensagem)\n",
        "\n",
        "lista=[2,8,6,7,8,10]\n",
        "procurado=int(input(\"Digite o número procurado: \"))\n",
        "busca_seq(lista, procurado)"
      ]
    },
    {
      "cell_type": "markdown",
      "source": [
        "# **Busca Binária**"
      ],
      "metadata": {
        "id": "qIpy4Pw3J0j2"
      }
    },
    {
      "cell_type": "code",
      "source": [
        "def buscaBinaria(lista, chave):\n",
        "    inicio = 0\n",
        "    fim = len(lista)-1\n",
        "    while inicio <= fim:\n",
        "        meio = (inicio + fim)//2\n",
        "        if lista[meio] == chave:\n",
        "            mensagem=(\"encontrado na posição: \",meio)\n",
        "            return mensagem\n",
        "        elif lista[meio] > chave:\n",
        "            fim = meio - 1\n",
        "        else:\n",
        "            inicio = meio + 1\n",
        "            mensagem=\"não encontrado na lista\"\n",
        "    return mensagem\n",
        "\n",
        "lista=[2,8,6,7,8,10]\n",
        "lista.sort()\n",
        "print(lista)\n",
        "\n",
        "procurado=int(input(\"Digite o número procurado: \"))\n",
        "buscaBinaria(lista, procurado)"
      ],
      "metadata": {
        "colab": {
          "base_uri": "https://localhost:8080/",
          "height": 72
        },
        "id": "Hc4p_RRJKDgJ",
        "outputId": "4d7211ed-45c5-4c6d-e6a2-89bd0d6fb2ed"
      },
      "execution_count": 25,
      "outputs": [
        {
          "name": "stdout",
          "output_type": "stream",
          "text": [
            "[2, 6, 7, 8, 8, 10]\n",
            "Digite o número procurado: 100\n"
          ]
        },
        {
          "output_type": "execute_result",
          "data": {
            "text/plain": [
              "'não encontrado na lista'"
            ],
            "application/vnd.google.colaboratory.intrinsic+json": {
              "type": "string"
            }
          },
          "metadata": {},
          "execution_count": 25
        }
      ]
    }
  ]
}